{
 "cells": [
  {
   "cell_type": "markdown",
   "metadata": {},
   "source": [
    "# Data Collection - Pokemon\n",
    "So, Brian Jezreel A. DATASCI S12"
   ]
  },
  {
   "cell_type": "code",
   "execution_count": 1,
   "metadata": {},
   "outputs": [],
   "source": [
    "import requests\n",
    "from bs4 import BeautifulSoup\n",
    "import json"
   ]
  },
  {
   "cell_type": "markdown",
   "metadata": {},
   "source": [
    "## Pokémon"
   ]
  },
  {
   "cell_type": "code",
   "execution_count": 2,
   "metadata": {},
   "outputs": [
    {
     "data": {
      "text/plain": [
       "<tr style=\"background:#FFF\">\n",
       "<td style=\"font-family:monospace\"> #001\n",
       "</td>\n",
       "<td style=\"font-family:monospace\"> #001\n",
       "</td>\n",
       "<th> <a href=\"/wiki/Bulbasaur_(Pok%C3%A9mon)\" title=\"Bulbasaur\"><img alt=\"Bulbasaur\" height=\"68\" src=\"//cdn.bulbagarden.net/upload/2/21/001MS8.png\" width=\"68\"/></a>\n",
       "</th>\n",
       "<td> <a href=\"/wiki/Bulbasaur_(Pok%C3%A9mon)\" title=\"Bulbasaur (Pokémon)\">Bulbasaur</a>\n",
       "</td>\n",
       "<td colspan=\"1\" style=\"text-align:center; background:#78C850\"> <a href=\"/wiki/Grass_(type)\" title=\"Grass (type)\"><span style=\"color:#FFF\">Grass</span></a> </td>\n",
       "<td align=\"center\" colspan=\"1\" rowspan=\"1\" style=\"background:#A040A0\"> <a href=\"/wiki/Poison_(type)\" title=\"Poison (type)\"><span style=\"color:#FFFFFF\">Poison</span></a>\n",
       "</td></tr>"
      ]
     },
     "execution_count": 2,
     "metadata": {},
     "output_type": "execute_result"
    }
   ],
   "source": [
    "URL=\"https://bulbapedia.bulbagarden.net/wiki/List_of_Pok%C3%A9mon_by_National_Pok%C3%A9dex_number\"\n",
    "page=requests.get(URL)\n",
    "soup = BeautifulSoup(page.content, 'html.parser')\n",
    "poke_content=soup.find(id='mw-content-text')\n",
    "poke_tables=poke_content.find_all('table')\n",
    "gen1_list=poke_tables[1]\n",
    "gen1_list.contents[3]"
   ]
  },
  {
   "cell_type": "code",
   "execution_count": 3,
   "metadata": {},
   "outputs": [],
   "source": [
    "gen_list = []\n",
    "info_start=3\n",
    "for x in range(1,9):\n",
    "    gen_list.clear()\n",
    "    table_contents = poke_tables[x].contents\n",
    "    for i in range(info_start, len(table_contents), 2):\n",
    "        poke_info=table_contents[i]\n",
    "        kdex=poke_info.contents[1].text.strip()\n",
    "        ndex=poke_info.contents[3].text.strip()\n",
    "        name=poke_info.contents[7].text.strip()\n",
    "        type1=poke_info.contents[9].text.strip()\n",
    "        href='https://bulbapedia.bulbagarden.net'+poke_info.contents[5].a['href']\n",
    "        if len(poke_info.contents) > 10:\n",
    "            type2=poke_info.contents[11].text.strip()\n",
    "            gen_list.append({\n",
    "                \"kdex\": kdex,\n",
    "                \"ndex\": ndex,\n",
    "                \"name\": name,\n",
    "                \"type1\": type1,\n",
    "                \"type2\": type2,\n",
    "                \"href\": href\n",
    "            })\n",
    "        else:\n",
    "            gen_list.append({\n",
    "                \"kdex\": kdex,\n",
    "                \"ndex\": ndex,\n",
    "                \"name\": name,\n",
    "                \"type1\": type1,\n",
    "                \"href\": href\n",
    "            })\n",
    "    filename = 'gen'+str(x)+'.json'\n",
    "    with open(filename, 'w') as outfile:\n",
    "        json.dump(gen_list, outfile)"
   ]
  }
 ],
 "metadata": {
  "kernelspec": {
   "display_name": "Python 3",
   "language": "python",
   "name": "python3"
  },
  "language_info": {
   "codemirror_mode": {
    "name": "ipython",
    "version": 3
   },
   "file_extension": ".py",
   "mimetype": "text/x-python",
   "name": "python",
   "nbconvert_exporter": "python",
   "pygments_lexer": "ipython3",
   "version": "3.8.3"
  }
 },
 "nbformat": 4,
 "nbformat_minor": 4
}
